{
 "cells": [
  {
   "cell_type": "code",
   "execution_count": 2,
   "id": "3f539e9e",
   "metadata": {},
   "outputs": [],
   "source": [
    "import matplotlib.pyplot as plt\n",
    "import seaborn as sns\n",
    "%matplotlib inline\n",
    "\n",
    "import pandas as pd\n",
    "import numpy as np"
   ]
  },
  {
   "cell_type": "markdown",
   "id": "ff83beb6",
   "metadata": {},
   "source": [
    "# Reading and viewing data"
   ]
  },
  {
   "cell_type": "code",
   "execution_count": 3,
   "id": "90ea9dc3",
   "metadata": {},
   "outputs": [],
   "source": [
    "sales_df = pd.read_csv(\"sales_data_sample.csv\", index_col=\"ORDERNUMBER\",  encoding= 'unicode_escape')"
   ]
  },
  {
   "cell_type": "code",
   "execution_count": 22,
   "id": "91523267",
   "metadata": {},
   "outputs": [
    {
     "data": {
      "text/html": [
       "<div>\n",
       "<style scoped>\n",
       "    .dataframe tbody tr th:only-of-type {\n",
       "        vertical-align: middle;\n",
       "    }\n",
       "\n",
       "    .dataframe tbody tr th {\n",
       "        vertical-align: top;\n",
       "    }\n",
       "\n",
       "    .dataframe thead th {\n",
       "        text-align: right;\n",
       "    }\n",
       "</style>\n",
       "<table border=\"1\" class=\"dataframe\">\n",
       "  <thead>\n",
       "    <tr style=\"text-align: right;\">\n",
       "      <th></th>\n",
       "      <th>QUANTITYORDERED</th>\n",
       "      <th>PRICEEACH</th>\n",
       "      <th>SALES</th>\n",
       "      <th>ORDERDATE</th>\n",
       "      <th>STATUS</th>\n",
       "      <th>QTR_ID</th>\n",
       "      <th>MONTH_ID</th>\n",
       "      <th>YEAR_ID</th>\n",
       "      <th>PRODUCTLINE</th>\n",
       "      <th>MSRP</th>\n",
       "      <th>PRODUCTCODE</th>\n",
       "      <th>CUSTOMERNAME</th>\n",
       "      <th>ADDRESSLINE1</th>\n",
       "      <th>COUNTRY</th>\n",
       "      <th>CONTACTLASTNAME</th>\n",
       "      <th>CONTACTFIRSTNAME</th>\n",
       "      <th>DEALSIZE</th>\n",
       "    </tr>\n",
       "    <tr>\n",
       "      <th>ORDERNUMBER</th>\n",
       "      <th></th>\n",
       "      <th></th>\n",
       "      <th></th>\n",
       "      <th></th>\n",
       "      <th></th>\n",
       "      <th></th>\n",
       "      <th></th>\n",
       "      <th></th>\n",
       "      <th></th>\n",
       "      <th></th>\n",
       "      <th></th>\n",
       "      <th></th>\n",
       "      <th></th>\n",
       "      <th></th>\n",
       "      <th></th>\n",
       "      <th></th>\n",
       "      <th></th>\n",
       "    </tr>\n",
       "  </thead>\n",
       "  <tbody>\n",
       "    <tr>\n",
       "      <th>10107</th>\n",
       "      <td>30</td>\n",
       "      <td>95.70</td>\n",
       "      <td>2871.00</td>\n",
       "      <td>2/24/2003</td>\n",
       "      <td>Shipped</td>\n",
       "      <td>1</td>\n",
       "      <td>2</td>\n",
       "      <td>2003</td>\n",
       "      <td>Motorcycles</td>\n",
       "      <td>95</td>\n",
       "      <td>S10_1678</td>\n",
       "      <td>Land of Toys Inc.</td>\n",
       "      <td>897 Long Airport Avenue</td>\n",
       "      <td>USA</td>\n",
       "      <td>Yu</td>\n",
       "      <td>Kwai</td>\n",
       "      <td>Small</td>\n",
       "    </tr>\n",
       "    <tr>\n",
       "      <th>10121</th>\n",
       "      <td>34</td>\n",
       "      <td>81.35</td>\n",
       "      <td>2765.90</td>\n",
       "      <td>5/7/2003</td>\n",
       "      <td>Shipped</td>\n",
       "      <td>2</td>\n",
       "      <td>5</td>\n",
       "      <td>2003</td>\n",
       "      <td>Motorcycles</td>\n",
       "      <td>95</td>\n",
       "      <td>S10_1678</td>\n",
       "      <td>Reims Collectables</td>\n",
       "      <td>59 rue de l'Abbaye</td>\n",
       "      <td>France</td>\n",
       "      <td>Henriot</td>\n",
       "      <td>Paul</td>\n",
       "      <td>Small</td>\n",
       "    </tr>\n",
       "    <tr>\n",
       "      <th>10134</th>\n",
       "      <td>41</td>\n",
       "      <td>94.74</td>\n",
       "      <td>3884.34</td>\n",
       "      <td>7/1/2003</td>\n",
       "      <td>Shipped</td>\n",
       "      <td>3</td>\n",
       "      <td>7</td>\n",
       "      <td>2003</td>\n",
       "      <td>Motorcycles</td>\n",
       "      <td>95</td>\n",
       "      <td>S10_1678</td>\n",
       "      <td>Lyon Souveniers</td>\n",
       "      <td>27 rue du Colonel Pierre Avia</td>\n",
       "      <td>France</td>\n",
       "      <td>Da Cunha</td>\n",
       "      <td>Daniel</td>\n",
       "      <td>Medium</td>\n",
       "    </tr>\n",
       "    <tr>\n",
       "      <th>10145</th>\n",
       "      <td>45</td>\n",
       "      <td>83.26</td>\n",
       "      <td>3746.70</td>\n",
       "      <td>8/25/2003</td>\n",
       "      <td>Shipped</td>\n",
       "      <td>3</td>\n",
       "      <td>8</td>\n",
       "      <td>2003</td>\n",
       "      <td>Motorcycles</td>\n",
       "      <td>95</td>\n",
       "      <td>S10_1678</td>\n",
       "      <td>Toys4GrownUps.com</td>\n",
       "      <td>78934 Hillside Dr.</td>\n",
       "      <td>USA</td>\n",
       "      <td>Young</td>\n",
       "      <td>Julie</td>\n",
       "      <td>Medium</td>\n",
       "    </tr>\n",
       "    <tr>\n",
       "      <th>10159</th>\n",
       "      <td>49</td>\n",
       "      <td>100.00</td>\n",
       "      <td>5205.27</td>\n",
       "      <td>10/10/2003</td>\n",
       "      <td>Shipped</td>\n",
       "      <td>4</td>\n",
       "      <td>10</td>\n",
       "      <td>2003</td>\n",
       "      <td>Motorcycles</td>\n",
       "      <td>95</td>\n",
       "      <td>S10_1678</td>\n",
       "      <td>Corporate Gift Ideas Co.</td>\n",
       "      <td>7734 Strong St.</td>\n",
       "      <td>USA</td>\n",
       "      <td>Brown</td>\n",
       "      <td>Julie</td>\n",
       "      <td>Medium</td>\n",
       "    </tr>\n",
       "  </tbody>\n",
       "</table>\n",
       "</div>"
      ],
      "text/plain": [
       "             QUANTITYORDERED  PRICEEACH    SALES   ORDERDATE   STATUS  QTR_ID  \\\n",
       "ORDERNUMBER                                                                     \n",
       "10107                     30      95.70  2871.00   2/24/2003  Shipped       1   \n",
       "10121                     34      81.35  2765.90    5/7/2003  Shipped       2   \n",
       "10134                     41      94.74  3884.34    7/1/2003  Shipped       3   \n",
       "10145                     45      83.26  3746.70   8/25/2003  Shipped       3   \n",
       "10159                     49     100.00  5205.27  10/10/2003  Shipped       4   \n",
       "\n",
       "             MONTH_ID  YEAR_ID  PRODUCTLINE  MSRP PRODUCTCODE  \\\n",
       "ORDERNUMBER                                                     \n",
       "10107               2     2003  Motorcycles    95    S10_1678   \n",
       "10121               5     2003  Motorcycles    95    S10_1678   \n",
       "10134               7     2003  Motorcycles    95    S10_1678   \n",
       "10145               8     2003  Motorcycles    95    S10_1678   \n",
       "10159              10     2003  Motorcycles    95    S10_1678   \n",
       "\n",
       "                         CUSTOMERNAME                   ADDRESSLINE1 COUNTRY  \\\n",
       "ORDERNUMBER                                                                    \n",
       "10107               Land of Toys Inc.        897 Long Airport Avenue     USA   \n",
       "10121              Reims Collectables             59 rue de l'Abbaye  France   \n",
       "10134                 Lyon Souveniers  27 rue du Colonel Pierre Avia  France   \n",
       "10145               Toys4GrownUps.com             78934 Hillside Dr.     USA   \n",
       "10159        Corporate Gift Ideas Co.                7734 Strong St.     USA   \n",
       "\n",
       "            CONTACTLASTNAME CONTACTFIRSTNAME DEALSIZE  \n",
       "ORDERNUMBER                                            \n",
       "10107                    Yu             Kwai    Small  \n",
       "10121               Henriot             Paul    Small  \n",
       "10134              Da Cunha           Daniel   Medium  \n",
       "10145                 Young            Julie   Medium  \n",
       "10159                 Brown            Julie   Medium  "
      ]
     },
     "execution_count": 22,
     "metadata": {},
     "output_type": "execute_result"
    }
   ],
   "source": [
    "sales_df.head()"
   ]
  },
  {
   "cell_type": "code",
   "execution_count": 23,
   "id": "b3d205dd",
   "metadata": {},
   "outputs": [
    {
     "data": {
      "text/plain": [
       "17"
      ]
     },
     "execution_count": 23,
     "metadata": {},
     "output_type": "execute_result"
    }
   ],
   "source": [
    "#number of columns\n",
    "sales_df.shape[1]"
   ]
  },
  {
   "cell_type": "code",
   "execution_count": 24,
   "id": "4cf4e06f",
   "metadata": {},
   "outputs": [
    {
     "data": {
      "text/plain": [
       "Index(['QUANTITYORDERED', 'PRICEEACH', 'SALES', 'ORDERDATE', 'STATUS',\n",
       "       'QTR_ID', 'MONTH_ID', 'YEAR_ID', 'PRODUCTLINE', 'MSRP', 'PRODUCTCODE',\n",
       "       'CUSTOMERNAME', 'ADDRESSLINE1', 'COUNTRY', 'CONTACTLASTNAME',\n",
       "       'CONTACTFIRSTNAME', 'DEALSIZE'],\n",
       "      dtype='object')"
      ]
     },
     "execution_count": 24,
     "metadata": {},
     "output_type": "execute_result"
    }
   ],
   "source": [
    "#names of columns\n",
    "sales_df.columns"
   ]
  },
  {
   "cell_type": "code",
   "execution_count": 25,
   "id": "37c853ea",
   "metadata": {},
   "outputs": [
    {
     "data": {
      "text/plain": [
       "2823"
      ]
     },
     "execution_count": 25,
     "metadata": {},
     "output_type": "execute_result"
    }
   ],
   "source": [
    "#number of rows\n",
    "sales_df.shape[0]"
   ]
  },
  {
   "cell_type": "code",
   "execution_count": 26,
   "id": "ea7d0d47",
   "metadata": {},
   "outputs": [
    {
     "data": {
      "text/plain": [
       "QUANTITYORDERED       int64\n",
       "PRICEEACH           float64\n",
       "SALES               float64\n",
       "ORDERDATE            object\n",
       "STATUS               object\n",
       "QTR_ID                int64\n",
       "MONTH_ID              int64\n",
       "YEAR_ID               int64\n",
       "PRODUCTLINE          object\n",
       "MSRP                  int64\n",
       "PRODUCTCODE          object\n",
       "CUSTOMERNAME         object\n",
       "ADDRESSLINE1         object\n",
       "COUNTRY              object\n",
       "CONTACTLASTNAME      object\n",
       "CONTACTFIRSTNAME     object\n",
       "DEALSIZE             object\n",
       "dtype: object"
      ]
     },
     "execution_count": 26,
     "metadata": {},
     "output_type": "execute_result"
    }
   ],
   "source": [
    "#datatypes\n",
    "sales_df.dtypes"
   ]
  },
  {
   "cell_type": "markdown",
   "id": "c1e653ea",
   "metadata": {},
   "source": [
    "# Data Cleaning"
   ]
  },
  {
   "cell_type": "code",
   "execution_count": 5,
   "id": "153484bd",
   "metadata": {},
   "outputs": [],
   "source": [
    "#dropped duplicate data\n",
    "sales_df.drop_duplicates(inplace=True)"
   ]
  },
  {
   "cell_type": "code",
   "execution_count": 4,
   "id": "655ef7f2",
   "metadata": {},
   "outputs": [],
   "source": [
    "#created function to separate categorical and numerical data\n",
    "def get_dtype_columns(df, type_):\n",
    "    if type_ == 'numeric':\n",
    "        return df.select_dtypes(include=[np.number]).columns.values\n",
    "    else:\n",
    "        return df.select_dtypes(exclude=[np.number]).columns.values"
   ]
  },
  {
   "cell_type": "code",
   "execution_count": 6,
   "id": "2eea9fe5",
   "metadata": {},
   "outputs": [],
   "source": [
    "numeric_cols = get_dtype_columns(sales_df, 'numeric')"
   ]
  },
  {
   "cell_type": "code",
   "execution_count": 7,
   "id": "0e8aa5bd",
   "metadata": {},
   "outputs": [],
   "source": [
    "nonnumeric_cols = get_dtype_columns(sales_df, 'non-numeric')"
   ]
  },
  {
   "cell_type": "code",
   "execution_count": 31,
   "id": "5a0f431a",
   "metadata": {},
   "outputs": [
    {
     "name": "stdout",
     "output_type": "stream",
     "text": [
      "QUANTITYORDERED - 0%\n",
      "PRICEEACH - 0%\n",
      "SALES - 0%\n",
      "ORDERDATE - 0%\n",
      "STATUS - 0%\n",
      "QTR_ID - 0%\n",
      "MONTH_ID - 0%\n",
      "YEAR_ID - 0%\n",
      "PRODUCTLINE - 0%\n",
      "MSRP - 0%\n",
      "PRODUCTCODE - 0%\n",
      "CUSTOMERNAME - 0%\n",
      "ADDRESSLINE1 - 0%\n",
      "COUNTRY - 0%\n",
      "CONTACTLASTNAME - 0%\n",
      "CONTACTFIRSTNAME - 0%\n",
      "DEALSIZE - 0%\n"
     ]
    }
   ],
   "source": [
    "#identified columns containing missing data by percent\n",
    "for col in sales_df.columns:\n",
    "    percentage_of_missing = np.mean(sales_df[col].isnull())\n",
    "    print('{} - {}%'.format(col, round(percentage_of_missing*100)))"
   ]
  },
  {
   "cell_type": "code",
   "execution_count": 8,
   "id": "d8d44e1c",
   "metadata": {},
   "outputs": [],
   "source": [
    "#filled missing numerical data with median of column\n",
    "for col in numeric_cols:\n",
    "    sales_df[col].fillna(sales_df[col].median())"
   ]
  },
  {
   "cell_type": "code",
   "execution_count": 9,
   "id": "c5ff7db6",
   "metadata": {},
   "outputs": [],
   "source": [
    "#filled missing categorical data with '_NA_'\n",
    "for col in nonnumeric_cols:\n",
    "    sales_df[col].fillna('_NA_')"
   ]
  },
  {
   "cell_type": "code",
   "execution_count": 10,
   "id": "c49902d4",
   "metadata": {},
   "outputs": [],
   "source": [
    "#created an outlier threshold 3 standard deviations away from the mean\n",
    "#dropped outlier data\n",
    "for col in numeric_cols:\n",
    "    outlier_threshold1 = sales_df[col].mean() + sales_df[col].std() * 3\n",
    "    outlier_threshold2 = sales_df[col].mean() - sales_df[col].std() * 3\n",
    "    sales_df.drop(sales_df[sales_df[col] > outlier_threshold1].index, inplace = True)\n",
    "    sales_df.drop(sales_df[sales_df[col] < outlier_threshold2].index, inplace = True)"
   ]
  },
  {
   "cell_type": "markdown",
   "id": "1b9babfd",
   "metadata": {},
   "source": [
    "# Descriptive Statistics"
   ]
  },
  {
   "cell_type": "code",
   "execution_count": 37,
   "id": "19dbe8ff",
   "metadata": {},
   "outputs": [
    {
     "data": {
      "text/html": [
       "<div>\n",
       "<style scoped>\n",
       "    .dataframe tbody tr th:only-of-type {\n",
       "        vertical-align: middle;\n",
       "    }\n",
       "\n",
       "    .dataframe tbody tr th {\n",
       "        vertical-align: top;\n",
       "    }\n",
       "\n",
       "    .dataframe thead th {\n",
       "        text-align: right;\n",
       "    }\n",
       "</style>\n",
       "<table border=\"1\" class=\"dataframe\">\n",
       "  <thead>\n",
       "    <tr style=\"text-align: right;\">\n",
       "      <th></th>\n",
       "      <th>QUANTITYORDERED</th>\n",
       "      <th>PRICEEACH</th>\n",
       "      <th>SALES</th>\n",
       "      <th>QTR_ID</th>\n",
       "      <th>MONTH_ID</th>\n",
       "      <th>YEAR_ID</th>\n",
       "      <th>MSRP</th>\n",
       "    </tr>\n",
       "  </thead>\n",
       "  <tbody>\n",
       "    <tr>\n",
       "      <th>count</th>\n",
       "      <td>2383.000000</td>\n",
       "      <td>2380.00000</td>\n",
       "      <td>2378.000000</td>\n",
       "      <td>2383.000000</td>\n",
       "      <td>2383.000000</td>\n",
       "      <td>2383.000000</td>\n",
       "      <td>2383.000000</td>\n",
       "    </tr>\n",
       "    <tr>\n",
       "      <th>mean</th>\n",
       "      <td>34.653378</td>\n",
       "      <td>83.59484</td>\n",
       "      <td>3460.094298</td>\n",
       "      <td>2.732270</td>\n",
       "      <td>7.167436</td>\n",
       "      <td>2003.755770</td>\n",
       "      <td>100.070499</td>\n",
       "    </tr>\n",
       "    <tr>\n",
       "      <th>std</th>\n",
       "      <td>9.069600</td>\n",
       "      <td>20.04133</td>\n",
       "      <td>1661.724477</td>\n",
       "      <td>1.217902</td>\n",
       "      <td>3.685939</td>\n",
       "      <td>0.671433</td>\n",
       "      <td>39.366020</td>\n",
       "    </tr>\n",
       "    <tr>\n",
       "      <th>min</th>\n",
       "      <td>6.000000</td>\n",
       "      <td>27.22000</td>\n",
       "      <td>482.130000</td>\n",
       "      <td>1.000000</td>\n",
       "      <td>1.000000</td>\n",
       "      <td>2003.000000</td>\n",
       "      <td>33.000000</td>\n",
       "    </tr>\n",
       "    <tr>\n",
       "      <th>25%</th>\n",
       "      <td>27.000000</td>\n",
       "      <td>69.10000</td>\n",
       "      <td>2203.837500</td>\n",
       "      <td>2.000000</td>\n",
       "      <td>4.000000</td>\n",
       "      <td>2003.000000</td>\n",
       "      <td>68.000000</td>\n",
       "    </tr>\n",
       "    <tr>\n",
       "      <th>50%</th>\n",
       "      <td>34.000000</td>\n",
       "      <td>94.66500</td>\n",
       "      <td>3164.025000</td>\n",
       "      <td>3.000000</td>\n",
       "      <td>8.000000</td>\n",
       "      <td>2004.000000</td>\n",
       "      <td>97.000000</td>\n",
       "    </tr>\n",
       "    <tr>\n",
       "      <th>75%</th>\n",
       "      <td>42.000000</td>\n",
       "      <td>100.00000</td>\n",
       "      <td>4403.640000</td>\n",
       "      <td>4.000000</td>\n",
       "      <td>11.000000</td>\n",
       "      <td>2004.000000</td>\n",
       "      <td>124.000000</td>\n",
       "    </tr>\n",
       "    <tr>\n",
       "      <th>max</th>\n",
       "      <td>61.000000</td>\n",
       "      <td>100.00000</td>\n",
       "      <td>8844.120000</td>\n",
       "      <td>4.000000</td>\n",
       "      <td>12.000000</td>\n",
       "      <td>2005.000000</td>\n",
       "      <td>214.000000</td>\n",
       "    </tr>\n",
       "  </tbody>\n",
       "</table>\n",
       "</div>"
      ],
      "text/plain": [
       "       QUANTITYORDERED   PRICEEACH        SALES       QTR_ID     MONTH_ID  \\\n",
       "count      2383.000000  2380.00000  2378.000000  2383.000000  2383.000000   \n",
       "mean         34.653378    83.59484  3460.094298     2.732270     7.167436   \n",
       "std           9.069600    20.04133  1661.724477     1.217902     3.685939   \n",
       "min           6.000000    27.22000   482.130000     1.000000     1.000000   \n",
       "25%          27.000000    69.10000  2203.837500     2.000000     4.000000   \n",
       "50%          34.000000    94.66500  3164.025000     3.000000     8.000000   \n",
       "75%          42.000000   100.00000  4403.640000     4.000000    11.000000   \n",
       "max          61.000000   100.00000  8844.120000     4.000000    12.000000   \n",
       "\n",
       "           YEAR_ID         MSRP  \n",
       "count  2383.000000  2383.000000  \n",
       "mean   2003.755770   100.070499  \n",
       "std       0.671433    39.366020  \n",
       "min    2003.000000    33.000000  \n",
       "25%    2003.000000    68.000000  \n",
       "50%    2004.000000    97.000000  \n",
       "75%    2004.000000   124.000000  \n",
       "max    2005.000000   214.000000  "
      ]
     },
     "execution_count": 37,
     "metadata": {},
     "output_type": "execute_result"
    }
   ],
   "source": [
    "sales_df.describe()"
   ]
  },
  {
   "cell_type": "code",
   "execution_count": 49,
   "id": "24793e14",
   "metadata": {},
   "outputs": [
    {
     "name": "stdout",
     "output_type": "stream",
     "text": [
      "QUANTITYORDERED - 15.0\n",
      "PRICEEACH - nan\n",
      "SALES - nan\n",
      "QTR_ID - 2.0\n",
      "MONTH_ID - 7.0\n",
      "YEAR_ID - 1.0\n",
      "MSRP - 56.0\n"
     ]
    }
   ],
   "source": [
    "#calculated iqr for numeric columns\n",
    "for col in numeric_cols:\n",
    "    q3, q1 = np.percentile(sales_df[col], [75,25])\n",
    "    iqr = q3 - q1\n",
    "    print('{} - {}'.format(col, iqr))"
   ]
  },
  {
   "cell_type": "code",
   "execution_count": 50,
   "id": "c54aaff2",
   "metadata": {},
   "outputs": [
    {
     "name": "stdout",
     "output_type": "stream",
     "text": [
      "ORDERDATE - 11/14/2003\n",
      "STATUS - Shipped\n",
      "PRODUCTLINE - Classic Cars\n",
      "PRODUCTCODE - S18_3232\n",
      "CUSTOMERNAME - Euro Shopping Channel\n",
      "ADDRESSLINE1 - C/ Moralzarzal, 86\n",
      "COUNTRY - USA\n",
      "CONTACTLASTNAME - Freyre\n",
      "CONTACTFIRSTNAME - Diego\n",
      "DEALSIZE - Medium\n"
     ]
    }
   ],
   "source": [
    "#calculated mode for non-numeric columns\n",
    "for col in nonnumeric_cols:\n",
    "    mode = sales_df.mode()[col][0]\n",
    "    print('{} - {}'.format(col, mode))"
   ]
  },
  {
   "cell_type": "code",
   "execution_count": 51,
   "id": "ca6d4331",
   "metadata": {},
   "outputs": [
    {
     "name": "stdout",
     "output_type": "stream",
     "text": [
      "ORDERDATE - 224\n",
      "STATUS - 6\n",
      "PRODUCTLINE - 7\n",
      "PRODUCTCODE - 109\n",
      "CUSTOMERNAME - 92\n",
      "ADDRESSLINE1 - 92\n",
      "COUNTRY - 19\n",
      "CONTACTLASTNAME - 77\n",
      "CONTACTFIRSTNAME - 72\n",
      "DEALSIZE - 3\n"
     ]
    }
   ],
   "source": [
    "#calculated number of unique values for non-numeric columns\n",
    "for col in nonnumeric_cols:\n",
    "    unique = sales_df.nunique()[col]\n",
    "    print('{} - {}'.format(col, unique))"
   ]
  },
  {
   "cell_type": "markdown",
   "id": "11b68042",
   "metadata": {},
   "source": [
    "# Data Visualization"
   ]
  },
  {
   "cell_type": "code",
   "execution_count": 65,
   "id": "92e4c4ad",
   "metadata": {},
   "outputs": [
    {
     "data": {
      "image/png": "[encoded data removed]",
      "text/plain": [
       "<Figure size 640x480 with 1 Axes>"
      ]
     },
     "metadata": {},
     "output_type": "display_data"
    }
   ],
   "source": [
    "plt.bar(sales_df['MONTH_ID'], sales_df['SALES'])\n",
    "plt.title('Sales Per Month')\n",
    "plt.xlabel('Month ID')\n",
    "plt.ylabel('Sales')\n",
    "plt.show()"
   ]
  },
  {
   "cell_type": "code",
   "execution_count": 76,
   "id": "e7fcd771",
   "metadata": {},
   "outputs": [
    {
     "data": {
      "image/png": "[encoded data removed]",
      "text/plain": [
       "<Figure size 640x480 with 1 Axes>"
      ]
     },
     "metadata": {},
     "output_type": "display_data"
    }
   ],
   "source": [
    "sns.barplot(x='PRODUCTLINE', y='MSRP', data=sales_df).set(title='Average MSRP per Product Line');"
   ]
  },
  {
   "cell_type": "code",
   "execution_count": 78,
   "id": "6f2a0494",
   "metadata": {},
   "outputs": [
    {
     "data": {
      "image/png": "[encoded data removed]",
      "text/plain": [
       "<Figure size 640x480 with 1 Axes>"
      ]
     },
     "metadata": {},
     "output_type": "display_data"
    }
   ],
   "source": [
    "plt.title(\"Distribution of Sales\")\n",
    "plt.xlabel(\"Total Sale Price\")\n",
    "plt.ylabel(\"Number of Sales\")\n",
    "plt.hist(sales_df['SALES']);"
   ]
  },
  {
   "cell_type": "markdown",
   "id": "559a7ba3",
   "metadata": {},
   "source": [
    "# Data Insights"
   ]
  },
  {
   "cell_type": "markdown",
   "id": "ef3f81d3",
   "metadata": {},
   "source": [
    "Studying the descriptive statistics for your dataset helps you get an idea of how the data is laid out and what data you have available. \n",
    "Looking at the first graph, we can see that the sales do not vary greatly from month to month. We see slightly larger peaks in sales towards the end of the year. In the second graph, we see the average MSRP per product line. On average, classic cars have the highest MSRP, while trains have the lowest MSRP. For the third graph, we see the distribution of sales. It appears that most sales made are typically between the sale price of 2,000 and 4,000.\n"
   ]
  }
 ],
 "metadata": {
  "kernelspec": {
   "display_name": "Python 3 (ipykernel)",
   "language": "python",
   "name": "python3"
  },
  "language_info": {
   "codemirror_mode": {
    "name": "ipython",
    "version": 3
   },
   "file_extension": ".py",
   "mimetype": "text/x-python",
   "name": "python",
   "nbconvert_exporter": "python",
   "pygments_lexer": "ipython3",
   "version": "3.9.13"
  }
 },
 "nbformat": 4,
 "nbformat_minor": 5
}
